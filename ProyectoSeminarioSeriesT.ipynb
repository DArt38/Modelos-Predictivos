{
 "cells": [
  {
   "cell_type": "markdown",
   "metadata": {},
   "source": [
    "# MODELOS PREDICTIVOS PARA SISTEMAS INTELIGENTES \n",
    "\n",
    "## Taller\n",
    "\n",
    "El dataset que trabajaremos en el taller (\"ProyectoSeminario.txt\") Contiene 2.075.259 medidas entre Diciembre de 2016 y Noviembre de 2010 (47 meses), y contiene la siguiente información:\n",
    "\n",
    "\n",
    "* globalactivepower: household global minute-averaged active power (in kilowatt)\n",
    "* globalreactivepower: household global minute-averaged reactive power (in kilowatt)\n",
    "* voltage: minute-averaged voltage (in volt)\n",
    "* global_intensity: household global minute-averaged current intensity (in ampere)\n",
    "* submetering1: energy sub-metering No. 1 (in watt-hour of active energy). It corresponds to the kitchen, containing mainly a dishwasher, an oven and a microwave (hot plates are not electric but gas powered).\n",
    "* submetering2: energy sub-metering No. 2 (in watt-hour of active energy). It corresponds to the laundry room, containing a washing-machine, a tumble-drier, a refrigerator and a light.\n",
    "* submetering3: energy sub-metering No. 3 (in watt-hour of active energy). It corresponds to an electric water-heater and an air-conditioner.\n",
    "\n",
    "\n",
    "Se requiere obtener dos modelos predictivos: Predicción en series de tiempo y Modelo de clasificación:\n",
    "\n",
    "* Predicción en series de tiempo: se requiere un modelo que permita predecir la potencia activa global (globalactivepoweer) tomando las últimas 48 horas de registro, y que permita estimar la potencia para las 24 horas siguientes (Nota: submuestrear la serie de tiempo para que la base de tiempo sean horas). Para este modelo se espera que se realicen todas las operaciones necesarias: inspección inicial del dataset, limpieza de datos, submuestreo, filtrado, preparación del dataset, creación de la arquitectura del modelo, entrenamiento del modelo, evaluación del desempeño, y finalmente la predicción para 24 horas siguientes, dado un historico de 48 horas pasadas.\n",
    "\n",
    "\n",
    "\n",
    "* Sistema de clasificación: se requiere un modelo que permita predecir si la potencia activa global es alta o baja (dadas las medidas de: Global_reactive_power, Voltage\tGlobal_intensity, Sub_metering_1, Sub_metering_2\tSub_metering_3), según los siguientes umbrales:\n",
    "\n",
    "\n",
    "   *   Potencia Activa Global Alta = consumo mayor a 0.8 KW\n",
    "   *   Potencia Activa Global Baja = consumo menor que 0.8 KW\n",
    "\n",
    "  Proponer un sistema de clasificación basado en: redes neuronales, bosques aleatorios y regresión logística. Para este modelo se espera que se realicen todas las operaciones necesarias: inspección inicial del dataset, limpieza de datos, preparación del dataset, creación de la arquitectura del modelo, entrenamiento del modelo, evaluación del desempeño, y finalmente la predicción de la potencia activa global dado un conjunto de datos independientes."
   ]
  },
  {
   "cell_type": "code",
   "execution_count": 2,
   "metadata": {},
   "outputs": [],
   "source": [
    "import pandas as pd\n",
    "import numpy as np\n",
    "import matplotlib.pyplot as plt\n",
    "import seaborn as sns\n",
    "\n",
    "dfdata = pd.read_table('datasets/ProyectoSeminario.txt',sep=';',low_memory=False)\n"
   ]
  },
  {
   "cell_type": "markdown",
   "metadata": {},
   "source": [
    "## Limpieza de los datos\n"
   ]
  },
  {
   "cell_type": "code",
   "execution_count": 3,
   "metadata": {},
   "outputs": [
    {
     "data": {
      "text/plain": [
       "Date                     2075259\n",
       "Time                     2075259\n",
       "Global_active_power      2075259\n",
       "Global_reactive_power    2075259\n",
       "Voltage                  2075259\n",
       "Global_intensity         2075259\n",
       "Sub_metering_1           2075259\n",
       "Sub_metering_2           2075259\n",
       "Sub_metering_3           2049280\n",
       "dtype: int64"
      ]
     },
     "execution_count": 3,
     "metadata": {},
     "output_type": "execute_result"
    }
   ],
   "source": [
    "dfdata.count()"
   ]
  },
  {
   "cell_type": "code",
   "execution_count": 4,
   "metadata": {},
   "outputs": [
    {
     "data": {
      "text/plain": [
       "Date                      object\n",
       "Time                      object\n",
       "Global_active_power       object\n",
       "Global_reactive_power     object\n",
       "Voltage                   object\n",
       "Global_intensity          object\n",
       "Sub_metering_1            object\n",
       "Sub_metering_2            object\n",
       "Sub_metering_3           float64\n",
       "dtype: object"
      ]
     },
     "execution_count": 4,
     "metadata": {},
     "output_type": "execute_result"
    }
   ],
   "source": [
    "dfdata.dtypes"
   ]
  },
  {
   "cell_type": "code",
   "execution_count": 5,
   "metadata": {},
   "outputs": [],
   "source": [
    "dfdata['Global_active_power'] = pd.to_numeric(dfdata.Global_active_power, errors='coerce')\n",
    "dfdata['Global_reactive_power'] = pd.to_numeric(dfdata.Global_reactive_power, errors='coerce')\n",
    "dfdata['Voltage'] = pd.to_numeric(dfdata.Voltage, errors='coerce')\n",
    "dfdata['Global_intensity'] = pd.to_numeric(dfdata.Global_intensity, errors='coerce')\n",
    "dfdata['Sub_metering_1'] = pd.to_numeric(dfdata.Sub_metering_1, errors='coerce')\n",
    "dfdata['Sub_metering_2'] = pd.to_numeric(dfdata.Sub_metering_2, errors='coerce')\n"
   ]
  },
  {
   "cell_type": "code",
   "execution_count": 6,
   "metadata": {},
   "outputs": [
    {
     "data": {
      "text/plain": [
       "Date                      object\n",
       "Time                      object\n",
       "Global_active_power      float64\n",
       "Global_reactive_power    float64\n",
       "Voltage                  float64\n",
       "Global_intensity         float64\n",
       "Sub_metering_1           float64\n",
       "Sub_metering_2           float64\n",
       "Sub_metering_3           float64\n",
       "dtype: object"
      ]
     },
     "execution_count": 6,
     "metadata": {},
     "output_type": "execute_result"
    }
   ],
   "source": [
    "dfdata.dtypes"
   ]
  },
  {
   "cell_type": "code",
   "execution_count": 7,
   "metadata": {},
   "outputs": [
    {
     "data": {
      "text/plain": [
       "Date                     2075259\n",
       "Time                     2075259\n",
       "Global_active_power      2049280\n",
       "Global_reactive_power    2049280\n",
       "Voltage                  2049280\n",
       "Global_intensity         2049280\n",
       "Sub_metering_1           2049280\n",
       "Sub_metering_2           2049280\n",
       "Sub_metering_3           2049280\n",
       "dtype: int64"
      ]
     },
     "execution_count": 7,
     "metadata": {},
     "output_type": "execute_result"
    }
   ],
   "source": [
    "# Verificar la cantidad de datos por cada columna\n",
    "dfdata.count()"
   ]
  },
  {
   "cell_type": "code",
   "execution_count": 8,
   "metadata": {},
   "outputs": [
    {
     "data": {
      "text/plain": [
       "Date                         0\n",
       "Time                         0\n",
       "Global_active_power      25979\n",
       "Global_reactive_power    25979\n",
       "Voltage                  25979\n",
       "Global_intensity         25979\n",
       "Sub_metering_1           25979\n",
       "Sub_metering_2           25979\n",
       "Sub_metering_3           25979\n",
       "dtype: int64"
      ]
     },
     "execution_count": 8,
     "metadata": {},
     "output_type": "execute_result"
    }
   ],
   "source": [
    "# Verificar si hay datos nulos\n",
    "dfdata.isnull().sum()"
   ]
  },
  {
   "cell_type": "code",
   "execution_count": 9,
   "metadata": {},
   "outputs": [
    {
     "data": {
      "image/png": "[encoded data removed]",
      "text/plain": [
       "<Figure size 432x288 with 2 Axes>"
      ]
     },
     "metadata": {
      "needs_background": "light"
     },
     "output_type": "display_data"
    }
   ],
   "source": [
    "## Generar mapa de calor con seaborn para observar mejor los datos nulos\n",
    "colours= ['#000099','#ffff00']\n",
    "sns.heatmap(dfdata.isnull(),cmap=sns.color_palette(colours))\n",
    "plt.show()"
   ]
  },
  {
   "cell_type": "code",
   "execution_count": 10,
   "metadata": {},
   "outputs": [
    {
     "data": {
      "text/html": [
       "<div>\n",
       "<style scoped>\n",
       "    .dataframe tbody tr th:only-of-type {\n",
       "        vertical-align: middle;\n",
       "    }\n",
       "\n",
       "    .dataframe tbody tr th {\n",
       "        vertical-align: top;\n",
       "    }\n",
       "\n",
       "    .dataframe thead th {\n",
       "        text-align: right;\n",
       "    }\n",
       "</style>\n",
       "<table border=\"1\" class=\"dataframe\">\n",
       "  <thead>\n",
       "    <tr style=\"text-align: right;\">\n",
       "      <th></th>\n",
       "      <th>Date</th>\n",
       "      <th>Time</th>\n",
       "      <th>Global_active_power</th>\n",
       "      <th>Global_reactive_power</th>\n",
       "      <th>Voltage</th>\n",
       "      <th>Global_intensity</th>\n",
       "      <th>Sub_metering_1</th>\n",
       "      <th>Sub_metering_2</th>\n",
       "      <th>Sub_metering_3</th>\n",
       "    </tr>\n",
       "  </thead>\n",
       "  <tbody>\n",
       "    <tr>\n",
       "      <th>0</th>\n",
       "      <td>16/12/2006</td>\n",
       "      <td>17:24:00</td>\n",
       "      <td>4.216</td>\n",
       "      <td>0.418</td>\n",
       "      <td>234.84</td>\n",
       "      <td>18.4</td>\n",
       "      <td>0.0</td>\n",
       "      <td>1.0</td>\n",
       "      <td>17.0</td>\n",
       "    </tr>\n",
       "    <tr>\n",
       "      <th>1</th>\n",
       "      <td>16/12/2006</td>\n",
       "      <td>17:25:00</td>\n",
       "      <td>5.360</td>\n",
       "      <td>0.436</td>\n",
       "      <td>233.63</td>\n",
       "      <td>23.0</td>\n",
       "      <td>0.0</td>\n",
       "      <td>1.0</td>\n",
       "      <td>16.0</td>\n",
       "    </tr>\n",
       "    <tr>\n",
       "      <th>2</th>\n",
       "      <td>16/12/2006</td>\n",
       "      <td>17:26:00</td>\n",
       "      <td>5.374</td>\n",
       "      <td>0.498</td>\n",
       "      <td>233.29</td>\n",
       "      <td>23.0</td>\n",
       "      <td>0.0</td>\n",
       "      <td>2.0</td>\n",
       "      <td>17.0</td>\n",
       "    </tr>\n",
       "    <tr>\n",
       "      <th>3</th>\n",
       "      <td>16/12/2006</td>\n",
       "      <td>17:27:00</td>\n",
       "      <td>5.388</td>\n",
       "      <td>0.502</td>\n",
       "      <td>233.74</td>\n",
       "      <td>23.0</td>\n",
       "      <td>0.0</td>\n",
       "      <td>1.0</td>\n",
       "      <td>17.0</td>\n",
       "    </tr>\n",
       "    <tr>\n",
       "      <th>4</th>\n",
       "      <td>16/12/2006</td>\n",
       "      <td>17:28:00</td>\n",
       "      <td>3.666</td>\n",
       "      <td>0.528</td>\n",
       "      <td>235.68</td>\n",
       "      <td>15.8</td>\n",
       "      <td>0.0</td>\n",
       "      <td>1.0</td>\n",
       "      <td>17.0</td>\n",
       "    </tr>\n",
       "  </tbody>\n",
       "</table>\n",
       "</div>"
      ],
      "text/plain": [
       "         Date      Time  Global_active_power  Global_reactive_power  Voltage  \\\n",
       "0  16/12/2006  17:24:00                4.216                  0.418   234.84   \n",
       "1  16/12/2006  17:25:00                5.360                  0.436   233.63   \n",
       "2  16/12/2006  17:26:00                5.374                  0.498   233.29   \n",
       "3  16/12/2006  17:27:00                5.388                  0.502   233.74   \n",
       "4  16/12/2006  17:28:00                3.666                  0.528   235.68   \n",
       "\n",
       "   Global_intensity  Sub_metering_1  Sub_metering_2  Sub_metering_3  \n",
       "0              18.4             0.0             1.0            17.0  \n",
       "1              23.0             0.0             1.0            16.0  \n",
       "2              23.0             0.0             2.0            17.0  \n",
       "3              23.0             0.0             1.0            17.0  \n",
       "4              15.8             0.0             1.0            17.0  "
      ]
     },
     "execution_count": 10,
     "metadata": {},
     "output_type": "execute_result"
    }
   ],
   "source": [
    "#Rellenar los datos de dataframe con los datos de propagacion hacia adelante-- rellena la fila de adelante con el valor anterior\n",
    "dfdata.Global_active_power= dfdata.Global_active_power.fillna(method='ffill')\n",
    "dfdata.Global_reactive_power= dfdata.Global_reactive_power.fillna(method='ffill')\n",
    "dfdata.Voltage= dfdata.Voltage.fillna(method='ffill')\n",
    "dfdata.Global_intensity= dfdata.Global_intensity.fillna(method='ffill')\n",
    "dfdata.Sub_metering_1= dfdata.Sub_metering_1.fillna(method='ffill')\n",
    "dfdata.Sub_metering_2= dfdata.Sub_metering_2.fillna(method='ffill')\n",
    "dfdata.Sub_metering_3= dfdata.Sub_metering_3.fillna(method='ffill')\n",
    "\n",
    "\n",
    "dfdata.head()"
   ]
  },
  {
   "cell_type": "code",
   "execution_count": 11,
   "metadata": {},
   "outputs": [
    {
     "data": {
      "text/plain": [
       "Date                     0\n",
       "Time                     0\n",
       "Global_active_power      0\n",
       "Global_reactive_power    0\n",
       "Voltage                  0\n",
       "Global_intensity         0\n",
       "Sub_metering_1           0\n",
       "Sub_metering_2           0\n",
       "Sub_metering_3           0\n",
       "dtype: int64"
      ]
     },
     "execution_count": 11,
     "metadata": {},
     "output_type": "execute_result"
    }
   ],
   "source": [
    "dfdata.isnull().sum()"
   ]
  },
  {
   "cell_type": "code",
   "execution_count": 12,
   "metadata": {},
   "outputs": [],
   "source": [
    "dfdata[\"date\"] = dfdata[\"Date\"] + \" \" + dfdata[\"Time\"]"
   ]
  },
  {
   "cell_type": "code",
   "execution_count": 13,
   "metadata": {},
   "outputs": [],
   "source": [
    "dfdata = dfdata.drop(labels=['Date','Time'],axis=1)"
   ]
  },
  {
   "cell_type": "code",
   "execution_count": 14,
   "metadata": {},
   "outputs": [
    {
     "data": {
      "text/html": [
       "<div>\n",
       "<style scoped>\n",
       "    .dataframe tbody tr th:only-of-type {\n",
       "        vertical-align: middle;\n",
       "    }\n",
       "\n",
       "    .dataframe tbody tr th {\n",
       "        vertical-align: top;\n",
       "    }\n",
       "\n",
       "    .dataframe thead th {\n",
       "        text-align: right;\n",
       "    }\n",
       "</style>\n",
       "<table border=\"1\" class=\"dataframe\">\n",
       "  <thead>\n",
       "    <tr style=\"text-align: right;\">\n",
       "      <th></th>\n",
       "      <th>Global_active_power</th>\n",
       "      <th>Global_reactive_power</th>\n",
       "      <th>Voltage</th>\n",
       "      <th>Global_intensity</th>\n",
       "      <th>Sub_metering_1</th>\n",
       "      <th>Sub_metering_2</th>\n",
       "      <th>Sub_metering_3</th>\n",
       "      <th>date</th>\n",
       "    </tr>\n",
       "  </thead>\n",
       "  <tbody>\n",
       "    <tr>\n",
       "      <th>0</th>\n",
       "      <td>4.216</td>\n",
       "      <td>0.418</td>\n",
       "      <td>234.84</td>\n",
       "      <td>18.4</td>\n",
       "      <td>0.0</td>\n",
       "      <td>1.0</td>\n",
       "      <td>17.0</td>\n",
       "      <td>16/12/2006 17:24:00</td>\n",
       "    </tr>\n",
       "    <tr>\n",
       "      <th>1</th>\n",
       "      <td>5.360</td>\n",
       "      <td>0.436</td>\n",
       "      <td>233.63</td>\n",
       "      <td>23.0</td>\n",
       "      <td>0.0</td>\n",
       "      <td>1.0</td>\n",
       "      <td>16.0</td>\n",
       "      <td>16/12/2006 17:25:00</td>\n",
       "    </tr>\n",
       "    <tr>\n",
       "      <th>2</th>\n",
       "      <td>5.374</td>\n",
       "      <td>0.498</td>\n",
       "      <td>233.29</td>\n",
       "      <td>23.0</td>\n",
       "      <td>0.0</td>\n",
       "      <td>2.0</td>\n",
       "      <td>17.0</td>\n",
       "      <td>16/12/2006 17:26:00</td>\n",
       "    </tr>\n",
       "    <tr>\n",
       "      <th>3</th>\n",
       "      <td>5.388</td>\n",
       "      <td>0.502</td>\n",
       "      <td>233.74</td>\n",
       "      <td>23.0</td>\n",
       "      <td>0.0</td>\n",
       "      <td>1.0</td>\n",
       "      <td>17.0</td>\n",
       "      <td>16/12/2006 17:27:00</td>\n",
       "    </tr>\n",
       "    <tr>\n",
       "      <th>4</th>\n",
       "      <td>3.666</td>\n",
       "      <td>0.528</td>\n",
       "      <td>235.68</td>\n",
       "      <td>15.8</td>\n",
       "      <td>0.0</td>\n",
       "      <td>1.0</td>\n",
       "      <td>17.0</td>\n",
       "      <td>16/12/2006 17:28:00</td>\n",
       "    </tr>\n",
       "  </tbody>\n",
       "</table>\n",
       "</div>"
      ],
      "text/plain": [
       "   Global_active_power  Global_reactive_power  Voltage  Global_intensity  \\\n",
       "0                4.216                  0.418   234.84              18.4   \n",
       "1                5.360                  0.436   233.63              23.0   \n",
       "2                5.374                  0.498   233.29              23.0   \n",
       "3                5.388                  0.502   233.74              23.0   \n",
       "4                3.666                  0.528   235.68              15.8   \n",
       "\n",
       "   Sub_metering_1  Sub_metering_2  Sub_metering_3                 date  \n",
       "0             0.0             1.0            17.0  16/12/2006 17:24:00  \n",
       "1             0.0             1.0            16.0  16/12/2006 17:25:00  \n",
       "2             0.0             2.0            17.0  16/12/2006 17:26:00  \n",
       "3             0.0             1.0            17.0  16/12/2006 17:27:00  \n",
       "4             0.0             1.0            17.0  16/12/2006 17:28:00  "
      ]
     },
     "execution_count": 14,
     "metadata": {},
     "output_type": "execute_result"
    }
   ],
   "source": [
    "dfdata.head()"
   ]
  },
  {
   "cell_type": "code",
   "execution_count": 15,
   "metadata": {},
   "outputs": [
    {
     "data": {
      "text/html": [
       "<div>\n",
       "<style scoped>\n",
       "    .dataframe tbody tr th:only-of-type {\n",
       "        vertical-align: middle;\n",
       "    }\n",
       "\n",
       "    .dataframe tbody tr th {\n",
       "        vertical-align: top;\n",
       "    }\n",
       "\n",
       "    .dataframe thead th {\n",
       "        text-align: right;\n",
       "    }\n",
       "</style>\n",
       "<table border=\"1\" class=\"dataframe\">\n",
       "  <thead>\n",
       "    <tr style=\"text-align: right;\">\n",
       "      <th></th>\n",
       "      <th>Global_active_power</th>\n",
       "      <th>Global_reactive_power</th>\n",
       "      <th>Voltage</th>\n",
       "      <th>Global_intensity</th>\n",
       "      <th>Sub_metering_1</th>\n",
       "      <th>Sub_metering_2</th>\n",
       "      <th>Sub_metering_3</th>\n",
       "      <th>date</th>\n",
       "    </tr>\n",
       "  </thead>\n",
       "  <tbody>\n",
       "    <tr>\n",
       "      <th>0</th>\n",
       "      <td>4.216</td>\n",
       "      <td>0.418</td>\n",
       "      <td>234.84</td>\n",
       "      <td>18.4</td>\n",
       "      <td>0.0</td>\n",
       "      <td>1.0</td>\n",
       "      <td>17.0</td>\n",
       "      <td>2006-12-16 17:24:00</td>\n",
       "    </tr>\n",
       "    <tr>\n",
       "      <th>1</th>\n",
       "      <td>5.360</td>\n",
       "      <td>0.436</td>\n",
       "      <td>233.63</td>\n",
       "      <td>23.0</td>\n",
       "      <td>0.0</td>\n",
       "      <td>1.0</td>\n",
       "      <td>16.0</td>\n",
       "      <td>2006-12-16 17:25:00</td>\n",
       "    </tr>\n",
       "    <tr>\n",
       "      <th>2</th>\n",
       "      <td>5.374</td>\n",
       "      <td>0.498</td>\n",
       "      <td>233.29</td>\n",
       "      <td>23.0</td>\n",
       "      <td>0.0</td>\n",
       "      <td>2.0</td>\n",
       "      <td>17.0</td>\n",
       "      <td>2006-12-16 17:26:00</td>\n",
       "    </tr>\n",
       "    <tr>\n",
       "      <th>3</th>\n",
       "      <td>5.388</td>\n",
       "      <td>0.502</td>\n",
       "      <td>233.74</td>\n",
       "      <td>23.0</td>\n",
       "      <td>0.0</td>\n",
       "      <td>1.0</td>\n",
       "      <td>17.0</td>\n",
       "      <td>2006-12-16 17:27:00</td>\n",
       "    </tr>\n",
       "    <tr>\n",
       "      <th>4</th>\n",
       "      <td>3.666</td>\n",
       "      <td>0.528</td>\n",
       "      <td>235.68</td>\n",
       "      <td>15.8</td>\n",
       "      <td>0.0</td>\n",
       "      <td>1.0</td>\n",
       "      <td>17.0</td>\n",
       "      <td>2006-12-16 17:28:00</td>\n",
       "    </tr>\n",
       "  </tbody>\n",
       "</table>\n",
       "</div>"
      ],
      "text/plain": [
       "   Global_active_power  Global_reactive_power  Voltage  Global_intensity  \\\n",
       "0                4.216                  0.418   234.84              18.4   \n",
       "1                5.360                  0.436   233.63              23.0   \n",
       "2                5.374                  0.498   233.29              23.0   \n",
       "3                5.388                  0.502   233.74              23.0   \n",
       "4                3.666                  0.528   235.68              15.8   \n",
       "\n",
       "   Sub_metering_1  Sub_metering_2  Sub_metering_3                date  \n",
       "0             0.0             1.0            17.0 2006-12-16 17:24:00  \n",
       "1             0.0             1.0            16.0 2006-12-16 17:25:00  \n",
       "2             0.0             2.0            17.0 2006-12-16 17:26:00  \n",
       "3             0.0             1.0            17.0 2006-12-16 17:27:00  \n",
       "4             0.0             1.0            17.0 2006-12-16 17:28:00  "
      ]
     },
     "execution_count": 15,
     "metadata": {},
     "output_type": "execute_result"
    }
   ],
   "source": [
    "##Especificar formato fecha Año(Y) Mes(m) Dia(d)\n",
    "# enlace a formato ... https://docs.python.org/3/library/datetime.html#strftime-and-strptime-behavior\n",
    "\n",
    "dfdata['date']=pd.to_datetime(dfdata['date'],format='%d/%m/%Y %H:%M:%S')\n",
    "\n",
    "dfdata.head()\n"
   ]
  },
  {
   "cell_type": "code",
   "execution_count": 16,
   "metadata": {},
   "outputs": [
    {
     "data": {
      "text/plain": [
       "0          Saturday\n",
       "1          Saturday\n",
       "2          Saturday\n",
       "3          Saturday\n",
       "4          Saturday\n",
       "             ...   \n",
       "2075254      Friday\n",
       "2075255      Friday\n",
       "2075256      Friday\n",
       "2075257      Friday\n",
       "2075258      Friday\n",
       "Name: date, Length: 2075259, dtype: object"
      ]
     },
     "execution_count": 16,
     "metadata": {},
     "output_type": "execute_result"
    }
   ],
   "source": [
    "##Ver que dia cayo cada fecha\n",
    "dfdata['date'].dt.day_name()"
   ]
  },
  {
   "cell_type": "code",
   "execution_count": 17,
   "metadata": {},
   "outputs": [
    {
     "data": {
      "text/html": [
       "<div>\n",
       "<style scoped>\n",
       "    .dataframe tbody tr th:only-of-type {\n",
       "        vertical-align: middle;\n",
       "    }\n",
       "\n",
       "    .dataframe tbody tr th {\n",
       "        vertical-align: top;\n",
       "    }\n",
       "\n",
       "    .dataframe thead th {\n",
       "        text-align: right;\n",
       "    }\n",
       "</style>\n",
       "<table border=\"1\" class=\"dataframe\">\n",
       "  <thead>\n",
       "    <tr style=\"text-align: right;\">\n",
       "      <th></th>\n",
       "      <th>Global_active_power</th>\n",
       "      <th>Global_reactive_power</th>\n",
       "      <th>Voltage</th>\n",
       "      <th>Global_intensity</th>\n",
       "      <th>Sub_metering_1</th>\n",
       "      <th>Sub_metering_2</th>\n",
       "      <th>Sub_metering_3</th>\n",
       "    </tr>\n",
       "  </thead>\n",
       "  <tbody>\n",
       "    <tr>\n",
       "      <th>count</th>\n",
       "      <td>2.075259e+06</td>\n",
       "      <td>2.075259e+06</td>\n",
       "      <td>2.075259e+06</td>\n",
       "      <td>2.075259e+06</td>\n",
       "      <td>2.075259e+06</td>\n",
       "      <td>2.075259e+06</td>\n",
       "      <td>2.075259e+06</td>\n",
       "    </tr>\n",
       "    <tr>\n",
       "      <th>mean</th>\n",
       "      <td>1.086168e+00</td>\n",
       "      <td>1.233280e-01</td>\n",
       "      <td>2.408416e+02</td>\n",
       "      <td>4.604226e+00</td>\n",
       "      <td>1.110995e+00</td>\n",
       "      <td>1.287958e+00</td>\n",
       "      <td>6.416570e+00</td>\n",
       "    </tr>\n",
       "    <tr>\n",
       "      <th>std</th>\n",
       "      <td>1.053172e+00</td>\n",
       "      <td>1.125144e-01</td>\n",
       "      <td>3.235574e+00</td>\n",
       "      <td>4.426775e+00</td>\n",
       "      <td>6.115908e+00</td>\n",
       "      <td>5.786865e+00</td>\n",
       "      <td>8.419505e+00</td>\n",
       "    </tr>\n",
       "    <tr>\n",
       "      <th>min</th>\n",
       "      <td>7.600000e-02</td>\n",
       "      <td>0.000000e+00</td>\n",
       "      <td>2.232000e+02</td>\n",
       "      <td>2.000000e-01</td>\n",
       "      <td>0.000000e+00</td>\n",
       "      <td>0.000000e+00</td>\n",
       "      <td>0.000000e+00</td>\n",
       "    </tr>\n",
       "    <tr>\n",
       "      <th>25%</th>\n",
       "      <td>3.080000e-01</td>\n",
       "      <td>4.800000e-02</td>\n",
       "      <td>2.390000e+02</td>\n",
       "      <td>1.400000e+00</td>\n",
       "      <td>0.000000e+00</td>\n",
       "      <td>0.000000e+00</td>\n",
       "      <td>0.000000e+00</td>\n",
       "    </tr>\n",
       "    <tr>\n",
       "      <th>50%</th>\n",
       "      <td>5.980000e-01</td>\n",
       "      <td>1.000000e-01</td>\n",
       "      <td>2.410200e+02</td>\n",
       "      <td>2.600000e+00</td>\n",
       "      <td>0.000000e+00</td>\n",
       "      <td>0.000000e+00</td>\n",
       "      <td>1.000000e+00</td>\n",
       "    </tr>\n",
       "    <tr>\n",
       "      <th>75%</th>\n",
       "      <td>1.524000e+00</td>\n",
       "      <td>1.940000e-01</td>\n",
       "      <td>2.428700e+02</td>\n",
       "      <td>6.400000e+00</td>\n",
       "      <td>0.000000e+00</td>\n",
       "      <td>1.000000e+00</td>\n",
       "      <td>1.700000e+01</td>\n",
       "    </tr>\n",
       "    <tr>\n",
       "      <th>max</th>\n",
       "      <td>1.112200e+01</td>\n",
       "      <td>1.390000e+00</td>\n",
       "      <td>2.541500e+02</td>\n",
       "      <td>4.840000e+01</td>\n",
       "      <td>8.800000e+01</td>\n",
       "      <td>8.000000e+01</td>\n",
       "      <td>3.100000e+01</td>\n",
       "    </tr>\n",
       "  </tbody>\n",
       "</table>\n",
       "</div>"
      ],
      "text/plain": [
       "       Global_active_power  Global_reactive_power       Voltage  \\\n",
       "count         2.075259e+06           2.075259e+06  2.075259e+06   \n",
       "mean          1.086168e+00           1.233280e-01  2.408416e+02   \n",
       "std           1.053172e+00           1.125144e-01  3.235574e+00   \n",
       "min           7.600000e-02           0.000000e+00  2.232000e+02   \n",
       "25%           3.080000e-01           4.800000e-02  2.390000e+02   \n",
       "50%           5.980000e-01           1.000000e-01  2.410200e+02   \n",
       "75%           1.524000e+00           1.940000e-01  2.428700e+02   \n",
       "max           1.112200e+01           1.390000e+00  2.541500e+02   \n",
       "\n",
       "       Global_intensity  Sub_metering_1  Sub_metering_2  Sub_metering_3  \n",
       "count      2.075259e+06    2.075259e+06    2.075259e+06    2.075259e+06  \n",
       "mean       4.604226e+00    1.110995e+00    1.287958e+00    6.416570e+00  \n",
       "std        4.426775e+00    6.115908e+00    5.786865e+00    8.419505e+00  \n",
       "min        2.000000e-01    0.000000e+00    0.000000e+00    0.000000e+00  \n",
       "25%        1.400000e+00    0.000000e+00    0.000000e+00    0.000000e+00  \n",
       "50%        2.600000e+00    0.000000e+00    0.000000e+00    1.000000e+00  \n",
       "75%        6.400000e+00    0.000000e+00    1.000000e+00    1.700000e+01  \n",
       "max        4.840000e+01    8.800000e+01    8.000000e+01    3.100000e+01  "
      ]
     },
     "execution_count": 17,
     "metadata": {},
     "output_type": "execute_result"
    }
   ],
   "source": [
    "dfdata.describe()"
   ]
  },
  {
   "cell_type": "code",
   "execution_count": 18,
   "metadata": {},
   "outputs": [
    {
     "data": {
      "text/plain": [
       "Global_active_power      2075259\n",
       "Global_reactive_power    2075259\n",
       "Voltage                  2075259\n",
       "Global_intensity         2075259\n",
       "Sub_metering_1           2075259\n",
       "Sub_metering_2           2075259\n",
       "Sub_metering_3           2075259\n",
       "date                     2075259\n",
       "dtype: int64"
      ]
     },
     "execution_count": 18,
     "metadata": {},
     "output_type": "execute_result"
    }
   ],
   "source": [
    "dfdata.count()"
   ]
  },
  {
   "cell_type": "code",
   "execution_count": 19,
   "metadata": {},
   "outputs": [],
   "source": [
    "#cambiar el indice del data frame por date\n",
    "dfdata.set_index('date',inplace=True)"
   ]
  },
  {
   "cell_type": "code",
   "execution_count": 20,
   "metadata": {},
   "outputs": [
    {
     "data": {
      "text/html": [
       "<div>\n",
       "<style scoped>\n",
       "    .dataframe tbody tr th:only-of-type {\n",
       "        vertical-align: middle;\n",
       "    }\n",
       "\n",
       "    .dataframe tbody tr th {\n",
       "        vertical-align: top;\n",
       "    }\n",
       "\n",
       "    .dataframe thead th {\n",
       "        text-align: right;\n",
       "    }\n",
       "</style>\n",
       "<table border=\"1\" class=\"dataframe\">\n",
       "  <thead>\n",
       "    <tr style=\"text-align: right;\">\n",
       "      <th></th>\n",
       "      <th>Global_active_power</th>\n",
       "      <th>Global_reactive_power</th>\n",
       "      <th>Voltage</th>\n",
       "      <th>Global_intensity</th>\n",
       "      <th>Sub_metering_1</th>\n",
       "      <th>Sub_metering_2</th>\n",
       "      <th>Sub_metering_3</th>\n",
       "    </tr>\n",
       "    <tr>\n",
       "      <th>date</th>\n",
       "      <th></th>\n",
       "      <th></th>\n",
       "      <th></th>\n",
       "      <th></th>\n",
       "      <th></th>\n",
       "      <th></th>\n",
       "      <th></th>\n",
       "    </tr>\n",
       "  </thead>\n",
       "  <tbody>\n",
       "    <tr>\n",
       "      <th>2006-12-16 17:24:00</th>\n",
       "      <td>4.216</td>\n",
       "      <td>0.418</td>\n",
       "      <td>234.84</td>\n",
       "      <td>18.4</td>\n",
       "      <td>0.0</td>\n",
       "      <td>1.0</td>\n",
       "      <td>17.0</td>\n",
       "    </tr>\n",
       "    <tr>\n",
       "      <th>2006-12-16 17:25:00</th>\n",
       "      <td>5.360</td>\n",
       "      <td>0.436</td>\n",
       "      <td>233.63</td>\n",
       "      <td>23.0</td>\n",
       "      <td>0.0</td>\n",
       "      <td>1.0</td>\n",
       "      <td>16.0</td>\n",
       "    </tr>\n",
       "    <tr>\n",
       "      <th>2006-12-16 17:26:00</th>\n",
       "      <td>5.374</td>\n",
       "      <td>0.498</td>\n",
       "      <td>233.29</td>\n",
       "      <td>23.0</td>\n",
       "      <td>0.0</td>\n",
       "      <td>2.0</td>\n",
       "      <td>17.0</td>\n",
       "    </tr>\n",
       "    <tr>\n",
       "      <th>2006-12-16 17:27:00</th>\n",
       "      <td>5.388</td>\n",
       "      <td>0.502</td>\n",
       "      <td>233.74</td>\n",
       "      <td>23.0</td>\n",
       "      <td>0.0</td>\n",
       "      <td>1.0</td>\n",
       "      <td>17.0</td>\n",
       "    </tr>\n",
       "    <tr>\n",
       "      <th>2006-12-16 17:28:00</th>\n",
       "      <td>3.666</td>\n",
       "      <td>0.528</td>\n",
       "      <td>235.68</td>\n",
       "      <td>15.8</td>\n",
       "      <td>0.0</td>\n",
       "      <td>1.0</td>\n",
       "      <td>17.0</td>\n",
       "    </tr>\n",
       "  </tbody>\n",
       "</table>\n",
       "</div>"
      ],
      "text/plain": [
       "                     Global_active_power  Global_reactive_power  Voltage  \\\n",
       "date                                                                       \n",
       "2006-12-16 17:24:00                4.216                  0.418   234.84   \n",
       "2006-12-16 17:25:00                5.360                  0.436   233.63   \n",
       "2006-12-16 17:26:00                5.374                  0.498   233.29   \n",
       "2006-12-16 17:27:00                5.388                  0.502   233.74   \n",
       "2006-12-16 17:28:00                3.666                  0.528   235.68   \n",
       "\n",
       "                     Global_intensity  Sub_metering_1  Sub_metering_2  \\\n",
       "date                                                                    \n",
       "2006-12-16 17:24:00              18.4             0.0             1.0   \n",
       "2006-12-16 17:25:00              23.0             0.0             1.0   \n",
       "2006-12-16 17:26:00              23.0             0.0             2.0   \n",
       "2006-12-16 17:27:00              23.0             0.0             1.0   \n",
       "2006-12-16 17:28:00              15.8             0.0             1.0   \n",
       "\n",
       "                     Sub_metering_3  \n",
       "date                                 \n",
       "2006-12-16 17:24:00            17.0  \n",
       "2006-12-16 17:25:00            16.0  \n",
       "2006-12-16 17:26:00            17.0  \n",
       "2006-12-16 17:27:00            17.0  \n",
       "2006-12-16 17:28:00            17.0  "
      ]
     },
     "execution_count": 20,
     "metadata": {},
     "output_type": "execute_result"
    }
   ],
   "source": [
    "dfdata.head()"
   ]
  },
  {
   "cell_type": "code",
   "execution_count": 21,
   "metadata": {},
   "outputs": [
    {
     "data": {
      "text/html": [
       "<div>\n",
       "<style scoped>\n",
       "    .dataframe tbody tr th:only-of-type {\n",
       "        vertical-align: middle;\n",
       "    }\n",
       "\n",
       "    .dataframe tbody tr th {\n",
       "        vertical-align: top;\n",
       "    }\n",
       "\n",
       "    .dataframe thead th {\n",
       "        text-align: right;\n",
       "    }\n",
       "</style>\n",
       "<table border=\"1\" class=\"dataframe\">\n",
       "  <thead>\n",
       "    <tr style=\"text-align: right;\">\n",
       "      <th></th>\n",
       "      <th>Global_active_power</th>\n",
       "      <th>Global_reactive_power</th>\n",
       "      <th>Voltage</th>\n",
       "      <th>Global_intensity</th>\n",
       "      <th>Sub_metering_1</th>\n",
       "      <th>Sub_metering_2</th>\n",
       "      <th>Sub_metering_3</th>\n",
       "    </tr>\n",
       "  </thead>\n",
       "  <tbody>\n",
       "    <tr>\n",
       "      <th>count</th>\n",
       "      <td>2.075259e+06</td>\n",
       "      <td>2.075259e+06</td>\n",
       "      <td>2.075259e+06</td>\n",
       "      <td>2.075259e+06</td>\n",
       "      <td>2.075259e+06</td>\n",
       "      <td>2.075259e+06</td>\n",
       "      <td>2.075259e+06</td>\n",
       "    </tr>\n",
       "    <tr>\n",
       "      <th>mean</th>\n",
       "      <td>1.086168e+00</td>\n",
       "      <td>1.233280e-01</td>\n",
       "      <td>2.408416e+02</td>\n",
       "      <td>4.604226e+00</td>\n",
       "      <td>1.110995e+00</td>\n",
       "      <td>1.287958e+00</td>\n",
       "      <td>6.416570e+00</td>\n",
       "    </tr>\n",
       "    <tr>\n",
       "      <th>std</th>\n",
       "      <td>1.053172e+00</td>\n",
       "      <td>1.125144e-01</td>\n",
       "      <td>3.235574e+00</td>\n",
       "      <td>4.426775e+00</td>\n",
       "      <td>6.115908e+00</td>\n",
       "      <td>5.786865e+00</td>\n",
       "      <td>8.419505e+00</td>\n",
       "    </tr>\n",
       "    <tr>\n",
       "      <th>min</th>\n",
       "      <td>7.600000e-02</td>\n",
       "      <td>0.000000e+00</td>\n",
       "      <td>2.232000e+02</td>\n",
       "      <td>2.000000e-01</td>\n",
       "      <td>0.000000e+00</td>\n",
       "      <td>0.000000e+00</td>\n",
       "      <td>0.000000e+00</td>\n",
       "    </tr>\n",
       "    <tr>\n",
       "      <th>25%</th>\n",
       "      <td>3.080000e-01</td>\n",
       "      <td>4.800000e-02</td>\n",
       "      <td>2.390000e+02</td>\n",
       "      <td>1.400000e+00</td>\n",
       "      <td>0.000000e+00</td>\n",
       "      <td>0.000000e+00</td>\n",
       "      <td>0.000000e+00</td>\n",
       "    </tr>\n",
       "    <tr>\n",
       "      <th>50%</th>\n",
       "      <td>5.980000e-01</td>\n",
       "      <td>1.000000e-01</td>\n",
       "      <td>2.410200e+02</td>\n",
       "      <td>2.600000e+00</td>\n",
       "      <td>0.000000e+00</td>\n",
       "      <td>0.000000e+00</td>\n",
       "      <td>1.000000e+00</td>\n",
       "    </tr>\n",
       "    <tr>\n",
       "      <th>75%</th>\n",
       "      <td>1.524000e+00</td>\n",
       "      <td>1.940000e-01</td>\n",
       "      <td>2.428700e+02</td>\n",
       "      <td>6.400000e+00</td>\n",
       "      <td>0.000000e+00</td>\n",
       "      <td>1.000000e+00</td>\n",
       "      <td>1.700000e+01</td>\n",
       "    </tr>\n",
       "    <tr>\n",
       "      <th>max</th>\n",
       "      <td>1.112200e+01</td>\n",
       "      <td>1.390000e+00</td>\n",
       "      <td>2.541500e+02</td>\n",
       "      <td>4.840000e+01</td>\n",
       "      <td>8.800000e+01</td>\n",
       "      <td>8.000000e+01</td>\n",
       "      <td>3.100000e+01</td>\n",
       "    </tr>\n",
       "  </tbody>\n",
       "</table>\n",
       "</div>"
      ],
      "text/plain": [
       "       Global_active_power  Global_reactive_power       Voltage  \\\n",
       "count         2.075259e+06           2.075259e+06  2.075259e+06   \n",
       "mean          1.086168e+00           1.233280e-01  2.408416e+02   \n",
       "std           1.053172e+00           1.125144e-01  3.235574e+00   \n",
       "min           7.600000e-02           0.000000e+00  2.232000e+02   \n",
       "25%           3.080000e-01           4.800000e-02  2.390000e+02   \n",
       "50%           5.980000e-01           1.000000e-01  2.410200e+02   \n",
       "75%           1.524000e+00           1.940000e-01  2.428700e+02   \n",
       "max           1.112200e+01           1.390000e+00  2.541500e+02   \n",
       "\n",
       "       Global_intensity  Sub_metering_1  Sub_metering_2  Sub_metering_3  \n",
       "count      2.075259e+06    2.075259e+06    2.075259e+06    2.075259e+06  \n",
       "mean       4.604226e+00    1.110995e+00    1.287958e+00    6.416570e+00  \n",
       "std        4.426775e+00    6.115908e+00    5.786865e+00    8.419505e+00  \n",
       "min        2.000000e-01    0.000000e+00    0.000000e+00    0.000000e+00  \n",
       "25%        1.400000e+00    0.000000e+00    0.000000e+00    0.000000e+00  \n",
       "50%        2.600000e+00    0.000000e+00    0.000000e+00    1.000000e+00  \n",
       "75%        6.400000e+00    0.000000e+00    1.000000e+00    1.700000e+01  \n",
       "max        4.840000e+01    8.800000e+01    8.000000e+01    3.100000e+01  "
      ]
     },
     "execution_count": 21,
     "metadata": {},
     "output_type": "execute_result"
    }
   ],
   "source": [
    "dfdata.describe()"
   ]
  },
  {
   "cell_type": "markdown",
   "metadata": {},
   "source": [
    "# Predicción en series de tiempo"
   ]
  },
  {
   "cell_type": "code",
   "execution_count": 23,
   "metadata": {},
   "outputs": [
    {
     "data": {
      "text/html": [
       "<div>\n",
       "<style scoped>\n",
       "    .dataframe tbody tr th:only-of-type {\n",
       "        vertical-align: middle;\n",
       "    }\n",
       "\n",
       "    .dataframe tbody tr th {\n",
       "        vertical-align: top;\n",
       "    }\n",
       "\n",
       "    .dataframe thead th {\n",
       "        text-align: right;\n",
       "    }\n",
       "</style>\n",
       "<table border=\"1\" class=\"dataframe\">\n",
       "  <thead>\n",
       "    <tr style=\"text-align: right;\">\n",
       "      <th></th>\n",
       "      <th>Global_active_power</th>\n",
       "    </tr>\n",
       "    <tr>\n",
       "      <th>date</th>\n",
       "      <th></th>\n",
       "    </tr>\n",
       "  </thead>\n",
       "  <tbody>\n",
       "    <tr>\n",
       "      <th>2006-12-16 17:24:00</th>\n",
       "      <td>4.216</td>\n",
       "    </tr>\n",
       "    <tr>\n",
       "      <th>2006-12-16 17:25:00</th>\n",
       "      <td>5.360</td>\n",
       "    </tr>\n",
       "    <tr>\n",
       "      <th>2006-12-16 17:26:00</th>\n",
       "      <td>5.374</td>\n",
       "    </tr>\n",
       "    <tr>\n",
       "      <th>2006-12-16 17:27:00</th>\n",
       "      <td>5.388</td>\n",
       "    </tr>\n",
       "    <tr>\n",
       "      <th>2006-12-16 17:28:00</th>\n",
       "      <td>3.666</td>\n",
       "    </tr>\n",
       "  </tbody>\n",
       "</table>\n",
       "</div>"
      ],
      "text/plain": [
       "                     Global_active_power\n",
       "date                                    \n",
       "2006-12-16 17:24:00                4.216\n",
       "2006-12-16 17:25:00                5.360\n",
       "2006-12-16 17:26:00                5.374\n",
       "2006-12-16 17:27:00                5.388\n",
       "2006-12-16 17:28:00                3.666"
      ]
     },
     "execution_count": 23,
     "metadata": {},
     "output_type": "execute_result"
    }
   ],
   "source": [
    "# Eliminar los campos ...El predictor será para la variable globalactivepoweer\n",
    "data_aux =dfdata.drop(labels=['Global_reactive_power','Voltage','Global_intensity','Sub_metering_1','Sub_metering_2','Sub_metering_3'],axis=1)\n",
    "\n",
    "data_aux.head()\n"
   ]
  },
  {
   "cell_type": "code",
   "execution_count": 24,
   "metadata": {},
   "outputs": [],
   "source": [
    "# Dividir datos entrenamiento y test\n",
    "from sklearn.model_selection import train_test_split \n",
    "\n",
    "datatrain, datatest = train_test_split(data_aux, test_size = 0.2, random_state = 100, shuffle=False) \n"
   ]
  },
  {
   "cell_type": "code",
   "execution_count": 26,
   "metadata": {},
   "outputs": [
    {
     "data": {
      "text/html": [
       "<div>\n",
       "<style scoped>\n",
       "    .dataframe tbody tr th:only-of-type {\n",
       "        vertical-align: middle;\n",
       "    }\n",
       "\n",
       "    .dataframe tbody tr th {\n",
       "        vertical-align: top;\n",
       "    }\n",
       "\n",
       "    .dataframe thead th {\n",
       "        text-align: right;\n",
       "    }\n",
       "</style>\n",
       "<table border=\"1\" class=\"dataframe\">\n",
       "  <thead>\n",
       "    <tr style=\"text-align: right;\">\n",
       "      <th></th>\n",
       "      <th>Global_active_power</th>\n",
       "    </tr>\n",
       "    <tr>\n",
       "      <th>date</th>\n",
       "      <th></th>\n",
       "    </tr>\n",
       "  </thead>\n",
       "  <tbody>\n",
       "    <tr>\n",
       "      <th>2006-12-16 17:24:00</th>\n",
       "      <td>4.216</td>\n",
       "    </tr>\n",
       "    <tr>\n",
       "      <th>2006-12-16 17:25:00</th>\n",
       "      <td>5.360</td>\n",
       "    </tr>\n",
       "    <tr>\n",
       "      <th>2006-12-16 17:26:00</th>\n",
       "      <td>5.374</td>\n",
       "    </tr>\n",
       "    <tr>\n",
       "      <th>2006-12-16 17:27:00</th>\n",
       "      <td>5.388</td>\n",
       "    </tr>\n",
       "    <tr>\n",
       "      <th>2006-12-16 17:28:00</th>\n",
       "      <td>3.666</td>\n",
       "    </tr>\n",
       "  </tbody>\n",
       "</table>\n",
       "</div>"
      ],
      "text/plain": [
       "                     Global_active_power\n",
       "date                                    \n",
       "2006-12-16 17:24:00                4.216\n",
       "2006-12-16 17:25:00                5.360\n",
       "2006-12-16 17:26:00                5.374\n",
       "2006-12-16 17:27:00                5.388\n",
       "2006-12-16 17:28:00                3.666"
      ]
     },
     "execution_count": 26,
     "metadata": {},
     "output_type": "execute_result"
    }
   ],
   "source": [
    "datatrain.head()"
   ]
  },
  {
   "cell_type": "code",
   "execution_count": 27,
   "metadata": {},
   "outputs": [
    {
     "data": {
      "text/html": [
       "<div>\n",
       "<style scoped>\n",
       "    .dataframe tbody tr th:only-of-type {\n",
       "        vertical-align: middle;\n",
       "    }\n",
       "\n",
       "    .dataframe tbody tr th {\n",
       "        vertical-align: top;\n",
       "    }\n",
       "\n",
       "    .dataframe thead th {\n",
       "        text-align: right;\n",
       "    }\n",
       "</style>\n",
       "<table border=\"1\" class=\"dataframe\">\n",
       "  <thead>\n",
       "    <tr style=\"text-align: right;\">\n",
       "      <th></th>\n",
       "      <th>Global_active_power</th>\n",
       "    </tr>\n",
       "    <tr>\n",
       "      <th>date</th>\n",
       "      <th></th>\n",
       "    </tr>\n",
       "  </thead>\n",
       "  <tbody>\n",
       "    <tr>\n",
       "      <th>2010-02-11 15:31:00</th>\n",
       "      <td>0.336</td>\n",
       "    </tr>\n",
       "    <tr>\n",
       "      <th>2010-02-11 15:32:00</th>\n",
       "      <td>0.334</td>\n",
       "    </tr>\n",
       "    <tr>\n",
       "      <th>2010-02-11 15:33:00</th>\n",
       "      <td>0.334</td>\n",
       "    </tr>\n",
       "    <tr>\n",
       "      <th>2010-02-11 15:34:00</th>\n",
       "      <td>0.336</td>\n",
       "    </tr>\n",
       "    <tr>\n",
       "      <th>2010-02-11 15:35:00</th>\n",
       "      <td>0.334</td>\n",
       "    </tr>\n",
       "  </tbody>\n",
       "</table>\n",
       "</div>"
      ],
      "text/plain": [
       "                     Global_active_power\n",
       "date                                    \n",
       "2010-02-11 15:31:00                0.336\n",
       "2010-02-11 15:32:00                0.334\n",
       "2010-02-11 15:33:00                0.334\n",
       "2010-02-11 15:34:00                0.336\n",
       "2010-02-11 15:35:00                0.334"
      ]
     },
     "execution_count": 27,
     "metadata": {},
     "output_type": "execute_result"
    }
   ],
   "source": [
    "datatest.head()"
   ]
  },
  {
   "cell_type": "code",
   "execution_count": 29,
   "metadata": {},
   "outputs": [
    {
     "data": {
      "text/html": [
       "<div>\n",
       "<style scoped>\n",
       "    .dataframe tbody tr th:only-of-type {\n",
       "        vertical-align: middle;\n",
       "    }\n",
       "\n",
       "    .dataframe tbody tr th {\n",
       "        vertical-align: top;\n",
       "    }\n",
       "\n",
       "    .dataframe thead th {\n",
       "        text-align: right;\n",
       "    }\n",
       "</style>\n",
       "<table border=\"1\" class=\"dataframe\">\n",
       "  <thead>\n",
       "    <tr style=\"text-align: right;\">\n",
       "      <th></th>\n",
       "      <th>Global_active_power</th>\n",
       "    </tr>\n",
       "    <tr>\n",
       "      <th>date</th>\n",
       "      <th></th>\n",
       "    </tr>\n",
       "  </thead>\n",
       "  <tbody>\n",
       "    <tr>\n",
       "      <th>2010-02-11 15:00:00</th>\n",
       "      <td>0.401172</td>\n",
       "    </tr>\n",
       "    <tr>\n",
       "      <th>2010-02-11 16:00:00</th>\n",
       "      <td>0.477733</td>\n",
       "    </tr>\n",
       "    <tr>\n",
       "      <th>2010-02-11 17:00:00</th>\n",
       "      <td>0.655267</td>\n",
       "    </tr>\n",
       "    <tr>\n",
       "      <th>2010-02-11 18:00:00</th>\n",
       "      <td>1.436367</td>\n",
       "    </tr>\n",
       "    <tr>\n",
       "      <th>2010-02-11 19:00:00</th>\n",
       "      <td>2.319900</td>\n",
       "    </tr>\n",
       "  </tbody>\n",
       "</table>\n",
       "</div>"
      ],
      "text/plain": [
       "                     Global_active_power\n",
       "date                                    \n",
       "2010-02-11 15:00:00             0.401172\n",
       "2010-02-11 16:00:00             0.477733\n",
       "2010-02-11 17:00:00             0.655267\n",
       "2010-02-11 18:00:00             1.436367\n",
       "2010-02-11 19:00:00             2.319900"
      ]
     },
     "execution_count": 29,
     "metadata": {},
     "output_type": "execute_result"
    }
   ],
   "source": [
    "#Reemuestrear datos a horas y calcular promedio\n",
    "datatrain= datatrain.resample('H').mean()\n",
    "datatest= datatest.resample('H').mean()\n",
    "\n",
    "datatest.head()"
   ]
  },
  {
   "cell_type": "code",
   "execution_count": 30,
   "metadata": {},
   "outputs": [
    {
     "data": {
      "text/plain": [
       "array([[ 0.27363246],\n",
       "       [ 0.0900899 ],\n",
       "       [ 0.01801177],\n",
       "       ...,\n",
       "       [-0.7677114 ],\n",
       "       [-0.94353068],\n",
       "       [-0.94038065]])"
      ]
     },
     "execution_count": 30,
     "metadata": {},
     "output_type": "execute_result"
    }
   ],
   "source": [
    "from sklearn.preprocessing import MinMaxScaler\n",
    "\n",
    "scalar =MinMaxScaler(feature_range=(-1,1))  ##Contiene la informacion del escalado\n",
    "datatrain_arr= scalar.fit_transform(datatrain)  ##Escalar el datatrain entre -1 y 1\n",
    "\n",
    "datatest_arr= scalar.fit_transform(datatest)\n",
    "datatrain_arr"
   ]
  },
  {
   "cell_type": "code",
   "execution_count": 31,
   "metadata": {},
   "outputs": [],
   "source": [
    "##Ventana\n",
    "steps=48\n",
    "\n",
    "##Listas vacias que van a ser llenadas con el dataset\n",
    "xtrain=[]\n",
    "ytrain=[]\n",
    "\n",
    "for i in range(len(datatrain_arr)-steps):\n",
    "    xtrain.append(datatrain_arr[i:i+steps])\n",
    "    ytrain.append(datatrain_arr[i+steps])\n",
    "    \n",
    "#TEST\n",
    "\n",
    "xtest=[]\n",
    "ytest=[]\n",
    "\n",
    "for i in range(len(datatest_arr)-steps):\n",
    "    xtest.append(datatest_arr[i:i+steps])\n",
    "    ytest.append(datatest_arr[i+steps])"
   ]
  },
  {
   "cell_type": "code",
   "execution_count": 32,
   "metadata": {},
   "outputs": [],
   "source": [
    "#convertir a numpy array\n",
    "xtrain= np.asanyarray(xtrain)\n",
    "ytrain= np.asanyarray(ytrain)\n",
    "\n",
    "#TEST\n",
    "xtest= np.asanyarray(xtest)\n",
    "ytest= np.asanyarray(ytest)"
   ]
  },
  {
   "cell_type": "code",
   "execution_count": 33,
   "metadata": {},
   "outputs": [
    {
     "name": "stdout",
     "output_type": "stream",
     "text": [
      "Xtrain: (27623, 48, 1) Ytrain: (27623, 1) \n",
      "Xtest: (6871, 48, 1) Ytest: (6871, 1) \n"
     ]
    }
   ],
   "source": [
    "print('Xtrain: {} Ytrain: {} '.format(xtrain.shape,ytrain.shape))\n",
    "\n",
    "##TEST\n",
    "print('Xtest: {} Ytest: {} '.format(xtest.shape,ytest.shape))"
   ]
  },
  {
   "cell_type": "code",
   "execution_count": 34,
   "metadata": {},
   "outputs": [
    {
     "name": "stdout",
     "output_type": "stream",
     "text": [
      "Model: \"sequential\"\n",
      "_________________________________________________________________\n",
      "Layer (type)                 Output Shape              Param #   \n",
      "=================================================================\n",
      "lstm (LSTM)                  (None, 48, 256)           264192    \n",
      "_________________________________________________________________\n",
      "dropout (Dropout)            (None, 48, 256)           0         \n",
      "_________________________________________________________________\n",
      "lstm_1 (LSTM)                (None, 48, 128)           197120    \n",
      "_________________________________________________________________\n",
      "dropout_1 (Dropout)          (None, 48, 128)           0         \n",
      "_________________________________________________________________\n",
      "lstm_2 (LSTM)                (None, 48, 64)            49408     \n",
      "_________________________________________________________________\n",
      "dropout_2 (Dropout)          (None, 48, 64)            0         \n",
      "_________________________________________________________________\n",
      "lstm_3 (LSTM)                (None, 32)                12416     \n",
      "_________________________________________________________________\n",
      "dropout_3 (Dropout)          (None, 32)                0         \n",
      "_________________________________________________________________\n",
      "dense (Dense)                (None, 128)               4224      \n",
      "_________________________________________________________________\n",
      "dense_1 (Dense)              (None, 64)                8256      \n",
      "_________________________________________________________________\n",
      "dense_2 (Dense)              (None, 1)                 65        \n",
      "=================================================================\n",
      "Total params: 535,681\n",
      "Trainable params: 535,681\n",
      "Non-trainable params: 0\n",
      "_________________________________________________________________\n"
     ]
    }
   ],
   "source": [
    "##CREAR MODELO\n",
    "\n",
    "from tensorflow.keras.layers import LSTM, Dropout, Dense\n",
    "from tensorflow.keras.models import Sequential\n",
    "\n",
    "model =Sequential() #Crear modelo secuencial\n",
    "model.add(LSTM(units=256,return_sequences=True, activation='relu', input_shape=(steps,1)))  # Agregar capas tipo LSTM con 256 neuronas\n",
    "model.add(Dropout(0.2)) ##el 20% de esa capa se va a desconectar para evitar overfit\n",
    "model.add(LSTM(units=128,return_sequences=True, activation='relu'))\n",
    "model.add(Dropout(0.2))\n",
    "model.add(LSTM(units=64,return_sequences=True, activation='relu'))\n",
    "model.add(Dropout(0.2))\n",
    "model.add(LSTM(units=32,return_sequences=False, activation='relu'))  \n",
    "model.add(Dropout(0.2))\n",
    "model.add(Dense(128))  \n",
    "model.add(Dense(64))\n",
    "model.add(Dense(ytrain.shape[1]))\n",
    "\n",
    "model.summary() #Verificar el modelo"
   ]
  },
  {
   "cell_type": "code",
   "execution_count": 35,
   "metadata": {},
   "outputs": [],
   "source": [
    "#Compilar el modelo funcion de error y optimizador\n",
    "model.compile(loss='mse',optimizer='adam')"
   ]
  },
  {
   "cell_type": "code",
   "execution_count": 36,
   "metadata": {},
   "outputs": [
    {
     "name": "stdout",
     "output_type": "stream",
     "text": [
      "Epoch 1/100\n",
      "777/777 [==============================] - 133s 166ms/step - loss: 1056.1747 - val_loss: 0.0749\n",
      "Epoch 2/100\n",
      "777/777 [==============================] - 134s 173ms/step - loss: 0.0712 - val_loss: 0.0744\n",
      "Epoch 3/100\n",
      "777/777 [==============================] - 139s 179ms/step - loss: 0.0677 - val_loss: 0.0655\n",
      "Epoch 4/100\n",
      "777/777 [==============================] - 136s 176ms/step - loss: 0.0590 - val_loss: 0.0523\n",
      "Epoch 5/100\n",
      "777/777 [==============================] - 140s 180ms/step - loss: 0.0452 - val_loss: 0.0392\n",
      "Epoch 6/100\n",
      "777/777 [==============================] - 140s 181ms/step - loss: 0.0412 - val_loss: 0.0382\n",
      "Epoch 7/100\n",
      "777/777 [==============================] - 138s 178ms/step - loss: 0.0394 - val_loss: 0.0373\n",
      "Epoch 8/100\n",
      "777/777 [==============================] - 138s 178ms/step - loss: 0.0386 - val_loss: 0.0401\n",
      "Epoch 9/100\n",
      "777/777 [==============================] - 137s 177ms/step - loss: 0.0379 - val_loss: 0.0361\n",
      "Epoch 10/100\n",
      "777/777 [==============================] - 137s 176ms/step - loss: 0.0377 - val_loss: 0.0455\n",
      "Epoch 11/100\n",
      "777/777 [==============================] - 137s 177ms/step - loss: 0.0373 - val_loss: 0.0362\n",
      "Epoch 12/100\n",
      "777/777 [==============================] - 137s 176ms/step - loss: 0.0366 - val_loss: 0.0360\n",
      "Epoch 13/100\n",
      "777/777 [==============================] - 137s 177ms/step - loss: 0.0365 - val_loss: 0.0351\n",
      "Epoch 14/100\n",
      "777/777 [==============================] - 140s 180ms/step - loss: 0.0362 - val_loss: 0.0343\n",
      "Epoch 15/100\n",
      "777/777 [==============================] - 137s 177ms/step - loss: 0.0364 - val_loss: 0.0362\n",
      "Epoch 16/100\n",
      "777/777 [==============================] - 137s 177ms/step - loss: 0.0359 - val_loss: 0.0351\n",
      "Epoch 17/100\n",
      "777/777 [==============================] - 138s 178ms/step - loss: 0.0358 - val_loss: 0.0347\n",
      "Epoch 18/100\n",
      "777/777 [==============================] - 137s 176ms/step - loss: 0.0360 - val_loss: 0.0373\n",
      "Epoch 19/100\n",
      "777/777 [==============================] - 138s 178ms/step - loss: 0.0351 - val_loss: 0.0348\n",
      "Epoch 20/100\n",
      "777/777 [==============================] - 138s 178ms/step - loss: 0.0352 - val_loss: 0.0360\n",
      "Epoch 21/100\n",
      "777/777 [==============================] - 139s 179ms/step - loss: 0.0353 - val_loss: 0.0345\n",
      "Epoch 22/100\n",
      "777/777 [==============================] - 138s 178ms/step - loss: 0.0350 - val_loss: 0.0353\n",
      "Epoch 23/100\n",
      "777/777 [==============================] - 152s 196ms/step - loss: 0.0347 - val_loss: 0.0348\n",
      "Epoch 24/100\n",
      "777/777 [==============================] - 210s 270ms/step - loss: 0.0350 - val_loss: 0.0351\n",
      "Epoch 25/100\n",
      "777/777 [==============================] - 208s 268ms/step - loss: 0.0349 - val_loss: 0.0362\n",
      "Epoch 26/100\n",
      "777/777 [==============================] - 210s 270ms/step - loss: 0.0345 - val_loss: 0.0430\n",
      "Epoch 27/100\n",
      "777/777 [==============================] - 211s 272ms/step - loss: 0.0344 - val_loss: 0.0347\n",
      "Epoch 28/100\n",
      "777/777 [==============================] - 211s 271ms/step - loss: 0.0343 - val_loss: 0.0378\n",
      "Epoch 29/100\n",
      "777/777 [==============================] - 210s 271ms/step - loss: 0.0341 - val_loss: 0.0351\n",
      "Epoch 30/100\n",
      "777/777 [==============================] - 211s 272ms/step - loss: 0.0344 - val_loss: 0.0351\n",
      "Epoch 31/100\n",
      "777/777 [==============================] - 213s 274ms/step - loss: 0.0338 - val_loss: 0.0345\n",
      "Epoch 32/100\n",
      "777/777 [==============================] - 212s 273ms/step - loss: 0.0339 - val_loss: 0.0339\n",
      "Epoch 33/100\n",
      "777/777 [==============================] - 213s 274ms/step - loss: 0.0336 - val_loss: 0.0337\n",
      "Epoch 34/100\n",
      "777/777 [==============================] - 176s 226ms/step - loss: 0.0337 - val_loss: 0.0348\n",
      "Epoch 35/100\n",
      "777/777 [==============================] - 130s 168ms/step - loss: 0.0331 - val_loss: 0.0367\n",
      "Epoch 36/100\n",
      "777/777 [==============================] - 132s 170ms/step - loss: 0.0333 - val_loss: 0.0346\n",
      "Epoch 37/100\n",
      "777/777 [==============================] - 131s 169ms/step - loss: 0.0333 - val_loss: 0.0343\n",
      "Epoch 38/100\n",
      "777/777 [==============================] - 132s 169ms/step - loss: 0.0331 - val_loss: 0.0348\n",
      "Epoch 39/100\n",
      "777/777 [==============================] - 131s 169ms/step - loss: 0.0329 - val_loss: 0.0343\n",
      "Epoch 40/100\n",
      "777/777 [==============================] - 131s 169ms/step - loss: 0.0329 - val_loss: 0.0340\n",
      "Epoch 41/100\n",
      "777/777 [==============================] - 132s 170ms/step - loss: 0.0327 - val_loss: 0.0343\n",
      "Epoch 42/100\n",
      "777/777 [==============================] - 132s 170ms/step - loss: 0.0329 - val_loss: 0.0356\n",
      "Epoch 43/100\n",
      "777/777 [==============================] - 131s 169ms/step - loss: 0.0325 - val_loss: 0.0345\n",
      "Epoch 44/100\n",
      "777/777 [==============================] - 131s 169ms/step - loss: 0.0322 - val_loss: 0.0355\n",
      "Epoch 45/100\n",
      "777/777 [==============================] - 132s 169ms/step - loss: 0.0326 - val_loss: 0.0341\n",
      "Epoch 46/100\n",
      "777/777 [==============================] - 132s 170ms/step - loss: 0.0322 - val_loss: 0.0347\n",
      "Epoch 47/100\n",
      "777/777 [==============================] - 132s 169ms/step - loss: 0.0322 - val_loss: 0.0353\n",
      "Epoch 48/100\n",
      "777/777 [==============================] - 132s 170ms/step - loss: 0.0318 - val_loss: 0.0347\n",
      "Epoch 49/100\n",
      "777/777 [==============================] - 133s 171ms/step - loss: 0.0316 - val_loss: 0.0352\n",
      "Epoch 50/100\n",
      "777/777 [==============================] - 132s 170ms/step - loss: 0.0321 - val_loss: 0.0341\n",
      "Epoch 51/100\n",
      "777/777 [==============================] - 132s 170ms/step - loss: 0.0318 - val_loss: 0.0365\n",
      "Epoch 52/100\n",
      "777/777 [==============================] - 132s 169ms/step - loss: 0.0313 - val_loss: 0.0356\n",
      "Epoch 53/100\n",
      "777/777 [==============================] - 132s 170ms/step - loss: 0.0315 - val_loss: 0.0336\n",
      "Epoch 54/100\n",
      "777/777 [==============================] - 134s 172ms/step - loss: 0.0313 - val_loss: 0.0362\n",
      "Epoch 55/100\n",
      "777/777 [==============================] - 133s 172ms/step - loss: 0.0310 - val_loss: 0.0360\n",
      "Epoch 56/100\n",
      "777/777 [==============================] - 133s 171ms/step - loss: 0.0309 - val_loss: 0.0382\n",
      "Epoch 57/100\n",
      "777/777 [==============================] - 131s 169ms/step - loss: 0.0304 - val_loss: 0.0358\n",
      "Epoch 58/100\n",
      "777/777 [==============================] - 132s 170ms/step - loss: 0.0307 - val_loss: 0.0373\n",
      "Epoch 59/100\n",
      "777/777 [==============================] - 132s 170ms/step - loss: 0.0305 - val_loss: 0.0357\n",
      "Epoch 60/100\n",
      "777/777 [==============================] - 132s 170ms/step - loss: 0.0301 - val_loss: 0.0363\n",
      "Epoch 61/100\n",
      "777/777 [==============================] - 132s 170ms/step - loss: 0.0300 - val_loss: 0.0366\n",
      "Epoch 62/100\n",
      "777/777 [==============================] - 132s 170ms/step - loss: 0.0298 - val_loss: 0.0353\n",
      "Epoch 63/100\n",
      "777/777 [==============================] - 133s 172ms/step - loss: 0.0296 - val_loss: 0.0348\n",
      "Epoch 64/100\n",
      "777/777 [==============================] - 132s 169ms/step - loss: 0.0295 - val_loss: 0.0364\n",
      "Epoch 65/100\n",
      "777/777 [==============================] - 134s 172ms/step - loss: 0.0295 - val_loss: 0.0361\n",
      "Epoch 66/100\n",
      "777/777 [==============================] - 137s 176ms/step - loss: 0.0291 - val_loss: 0.0365\n",
      "Epoch 67/100\n",
      "777/777 [==============================] - 137s 176ms/step - loss: 0.0291 - val_loss: 0.0352\n",
      "Epoch 68/100\n",
      "777/777 [==============================] - 138s 177ms/step - loss: 0.0287 - val_loss: 0.0362\n",
      "Epoch 69/100\n",
      "777/777 [==============================] - 136s 175ms/step - loss: 0.0287 - val_loss: 0.0349\n",
      "Epoch 70/100\n",
      "777/777 [==============================] - 137s 177ms/step - loss: 0.0286 - val_loss: 0.0364\n",
      "Epoch 71/100\n",
      "777/777 [==============================] - 136s 175ms/step - loss: 0.0282 - val_loss: 0.0369\n",
      "Epoch 72/100\n",
      "777/777 [==============================] - 149s 192ms/step - loss: 0.0280 - val_loss: 0.0406\n",
      "Epoch 73/100\n",
      "777/777 [==============================] - 151s 194ms/step - loss: 0.0280 - val_loss: 0.0378\n",
      "Epoch 74/100\n",
      "777/777 [==============================] - 158s 203ms/step - loss: 0.0277 - val_loss: 0.0352\n",
      "Epoch 75/100\n",
      "777/777 [==============================] - 141s 182ms/step - loss: 0.0275 - val_loss: 0.0371\n",
      "Epoch 76/100\n",
      "777/777 [==============================] - 139s 179ms/step - loss: 0.0276 - val_loss: 0.0372\n",
      "Epoch 77/100\n",
      "777/777 [==============================] - 138s 177ms/step - loss: 0.0274 - val_loss: 0.0379\n",
      "Epoch 78/100\n",
      "777/777 [==============================] - 136s 175ms/step - loss: 0.0271 - val_loss: 0.0367\n",
      "Epoch 79/100\n",
      "777/777 [==============================] - 136s 175ms/step - loss: 0.0271 - val_loss: 0.0367\n",
      "Epoch 80/100\n",
      "777/777 [==============================] - 137s 176ms/step - loss: 0.0267 - val_loss: 0.0372\n",
      "Epoch 81/100\n",
      "777/777 [==============================] - 137s 176ms/step - loss: 0.0264 - val_loss: 0.0373\n",
      "Epoch 82/100\n",
      "777/777 [==============================] - 136s 175ms/step - loss: 0.0266 - val_loss: 0.0390\n",
      "Epoch 83/100\n",
      "777/777 [==============================] - 137s 176ms/step - loss: 0.0263 - val_loss: 0.0363\n",
      "Epoch 84/100\n",
      "777/777 [==============================] - 135s 174ms/step - loss: 0.0260 - val_loss: 0.0375\n",
      "Epoch 85/100\n",
      "777/777 [==============================] - 136s 176ms/step - loss: 0.0259 - val_loss: 0.0384\n",
      "Epoch 86/100\n",
      "777/777 [==============================] - 136s 175ms/step - loss: 0.0257 - val_loss: 0.0374\n",
      "Epoch 87/100\n",
      "777/777 [==============================] - 136s 175ms/step - loss: 0.0252 - val_loss: 0.0388\n",
      "Epoch 88/100\n",
      "777/777 [==============================] - 136s 175ms/step - loss: 0.0280 - val_loss: 0.0388\n",
      "Epoch 89/100\n",
      "777/777 [==============================] - 139s 178ms/step - loss: 0.0263 - val_loss: 0.0383\n",
      "Epoch 90/100\n",
      "777/777 [==============================] - 136s 175ms/step - loss: 0.0251 - val_loss: 0.0387\n",
      "Epoch 91/100\n",
      "777/777 [==============================] - 136s 174ms/step - loss: 0.0246 - val_loss: 0.0405\n",
      "Epoch 92/100\n",
      "777/777 [==============================] - 135s 174ms/step - loss: 0.0252 - val_loss: 0.0379\n",
      "Epoch 93/100\n",
      "777/777 [==============================] - 136s 175ms/step - loss: 0.0242 - val_loss: 0.0384\n",
      "Epoch 94/100\n",
      "777/777 [==============================] - 137s 176ms/step - loss: 0.0242 - val_loss: 0.0422\n",
      "Epoch 95/100\n",
      "777/777 [==============================] - 136s 175ms/step - loss: 0.0242 - val_loss: 0.0393\n",
      "Epoch 96/100\n",
      "777/777 [==============================] - 137s 176ms/step - loss: 0.0242 - val_loss: 0.0382\n",
      "Epoch 97/100\n",
      "777/777 [==============================] - 136s 175ms/step - loss: 0.0240 - val_loss: 0.0401\n",
      "Epoch 98/100\n",
      "777/777 [==============================] - 136s 175ms/step - loss: 0.0238 - val_loss: 0.0401\n",
      "Epoch 99/100\n",
      "777/777 [==============================] - 136s 175ms/step - loss: 0.0236 - val_loss: 0.0422\n",
      "Epoch 100/100\n",
      "777/777 [==============================] - 132s 169ms/step - loss: 0.0247 - val_loss: 0.0386\n"
     ]
    }
   ],
   "source": [
    "##Entrenar el modelo y mostrar historico\n",
    "history = model.fit(xtrain, ytrain, epochs=100, validation_split=0.1, batch_size= 32, verbose= 1)"
   ]
  },
  {
   "cell_type": "code",
   "execution_count": 54,
   "metadata": {},
   "outputs": [
    {
     "data": {
      "image/png": "[encoded data removed]",
      "text/plain": [
       "<Figure size 864x288 with 1 Axes>"
      ]
     },
     "metadata": {
      "needs_background": "light"
     },
     "output_type": "display_data"
    }
   ],
   "source": [
    "#Graficar Errores de entrenamiento y validacion\n",
    "plt.figure(figsize=(12, 4))\n",
    "plt.plot(history.history['loss'])\n",
    "plt.plot(history.history['val_loss'])\n",
    "plt.legend(['loss','val_loss'])\n",
    "plt.show()"
   ]
  },
  {
   "cell_type": "code",
   "execution_count": 38,
   "metadata": {},
   "outputs": [],
   "source": [
    "#Guardar modelo\n",
    "model.save('ProyectoSeriesT.h5')"
   ]
  },
  {
   "cell_type": "code",
   "execution_count": 55,
   "metadata": {},
   "outputs": [],
   "source": [
    "# Evaluar la predicción del modelo con el dataset de test \n",
    "from tensorflow.keras.models import load_model\n",
    "model= load_model('ProyectoSeriesT.h5')"
   ]
  },
  {
   "cell_type": "code",
   "execution_count": 56,
   "metadata": {},
   "outputs": [],
   "source": [
    "## PREDICCIONES DEL MODELO\n",
    "ypred= model.predict(xtest)  #resultado de las predicciones\n",
    "ypred= scalar.inverse_transform(ypred)  #hacer escala inversa de -1 y 1 a rango normal\n",
    "ytest= scalar.inverse_transform(ytest)"
   ]
  },
  {
   "cell_type": "code",
   "execution_count": 61,
   "metadata": {},
   "outputs": [
    {
     "data": {
      "image/png": "[encoded data removed]",
      "text/plain": [
       "<Figure size 864x288 with 1 Axes>"
      ]
     },
     "metadata": {
      "needs_background": "light"
     },
     "output_type": "display_data"
    }
   ],
   "source": [
    "##Graficar prediccion y datos esperados \n",
    "\n",
    "plt.figure(figsize=(12, 4))\n",
    "#plt.plot(datatrain.index[:-steps],scalar.inverse_transform(ytrain), 'y')  #DATOS ENTRENAMIENTO\n",
    "plt.plot(datatest.index[:-steps],ypred, 'r')\n",
    "\n",
    "plt.plot(datatest.index[:-steps],ytest, 'b')\n",
    "\n",
    "plt.legend(['Entrenamiento','Prediccion','Esperado'])\n",
    "plt.show()"
   ]
  },
  {
   "cell_type": "code",
   "execution_count": 62,
   "metadata": {},
   "outputs": [
    {
     "data": {
      "text/plain": [
       "0.2664846909381377"
      ]
     },
     "execution_count": 62,
     "metadata": {},
     "output_type": "execute_result"
    }
   ],
   "source": [
    "##CAlcular error cuadratico medio\n",
    "from sklearn.metrics import mean_squared_error\n",
    "mean_squared_error(ytest,ypred)"
   ]
  },
  {
   "cell_type": "code",
   "execution_count": 63,
   "metadata": {},
   "outputs": [
    {
     "data": {
      "text/plain": [
       "(6871, 48, 1)"
      ]
     },
     "execution_count": 63,
     "metadata": {},
     "output_type": "execute_result"
    }
   ],
   "source": [
    "xtest.shape"
   ]
  },
  {
   "cell_type": "code",
   "execution_count": 64,
   "metadata": {},
   "outputs": [],
   "source": [
    "##PREDiCCiON\n",
    "\n",
    "xin= np.array([14,15,16,16.7,15.3,17,14.5,15.3,16.2,15.6,16.2,14.7,16.8,15.3,15.1,16.2,15.8,16,14,16,\n",
    "              14,15,16,16.7,15.3,17,14.5,15.3,16.2,15.6,16.2,14.7,16.8,15.3,15.1,16.2,15.8,16,14,16,\n",
    "              14,15,16,16.7,15.3,17,14.5,15.3])\n",
    "xin=scalar.fit_transform(xin.reshape(-1,1))\n",
    "xin=xin.reshape(1,48,1)"
   ]
  },
  {
   "cell_type": "code",
   "execution_count": 65,
   "metadata": {},
   "outputs": [
    {
     "data": {
      "text/plain": [
       "(1, 48, 1)"
      ]
     },
     "execution_count": 65,
     "metadata": {},
     "output_type": "execute_result"
    }
   ],
   "source": [
    "xin.shape"
   ]
  },
  {
   "cell_type": "code",
   "execution_count": 66,
   "metadata": {},
   "outputs": [
    {
     "data": {
      "text/plain": [
       "array([[15.136055]], dtype=float32)"
      ]
     },
     "execution_count": 66,
     "metadata": {},
     "output_type": "execute_result"
    }
   ],
   "source": [
    "yout = model.predict(xin)\n",
    "yout = scalar.inverse_transform(yout)\n",
    "yout"
   ]
  },
  {
   "cell_type": "code",
   "execution_count": null,
   "metadata": {},
   "outputs": [],
   "source": [
    "##Para 24 horas\n",
    "\n",
    "lst_output=[]\n",
    "n_steps=100\n",
    "i=0\n",
    "while(i<24):"
   ]
  }
 ],
 "metadata": {
  "kernelspec": {
   "display_name": "Cara",
   "language": "python",
   "name": "cara"
  },
  "language_info": {
   "codemirror_mode": {
    "name": "ipython",
    "version": 3
   },
   "file_extension": ".py",
   "mimetype": "text/x-python",
   "name": "python",
   "nbconvert_exporter": "python",
   "pygments_lexer": "ipython3",
   "version": "3.7.7"
  }
 },
 "nbformat": 4,
 "nbformat_minor": 5
}
